{
 "cells": [
  {
   "cell_type": "markdown",
   "metadata": {},
   "source": [
    "# OBJETIVO\n",
    "\n",
    "   O projeto tem por proposito estudar trajetórias de partículas carregas em uma região , que sofrem interações devido a vários centros espalhadores. Esses centros espalhadores pretendem simular objetos reais e serão dado ou gerado aleatoriamente.\n",
    "   Será apresentado problemas de forças centrais em uma região delimitada com a finalidade de se resolver e entender as trajetórias da partícula dada, diante de vários centros espalhadores .\n",
    "    "
   ]
  },
  {
   "cell_type": "markdown",
   "metadata": {},
   "source": [
    "# PROBLEMA FÍSICO\n",
    "\n",
    "   Richard Feynman , em seus famosos livros disse que “se algum cataclismo acontecesse , e que se só fosse possível passar uma frase a próxima geração ,a frase mais importante seria que todas as coisas são feitas de átomos - pequenas partículas que se movem constantemente, atraindo-se umas ás outras quando separadas por pequenas distâncias, mas repelindo-se ao serem comprimidas umas sobre as outras”. Nesse sentido , torna - se extremante interessante saber como acontece as colisões dos N núcleos espalhadores de um objeto e que forças regem essas colisões .\n",
    "   Nesse trabalho será proposto um problema de força central que envolve múltiplas partículas carregadas .     \n",
    "   Os objetos são compostos de átomos , que por sua vez carregam cargas elétricas e são constituídas basicamente de elétrons e prótons (com cargas negativas e positivas respectivamente) . Imaginemos agora que duas partículas com cargas estão a uma distância r , logo então sofreram uma força que é proporcional a carga dos dois e varia com o quadrado da distancia , escrevendo essa ‘Força Coulombiana’  vetorialmente ela ficara :\n",
    "\n",
    "\\begin{align}\\label{Fcoul1}\n",
    "\t\t\\vec{{F}}_{Coul} = \\dfrac{1}{4\\pi\\epsilon_{0}} \n",
    "        \\dfrac{q_{1}q_{2}}{r^{2}}\\hat{r} \n",
    "        \\qquad\\qquad \\text{ou} \\qquad\\qquad \n",
    "        \\vec{{F}}_{Coul} = \\dfrac{q_{1}q_{2}}{4\\pi\\epsilon_{0}} \n",
    "        \\dfrac{(\\vec{{r}}-\\vec{{r}}_{0})}{{\\left|\\vec{{{r}}}-\\vec{{r}}_{0}\\right|^{3}}}\n",
    "\\end{align}\n",
    "    \n",
    "   Se as cargas são de sinais opostas como no caso elétron-próton, a força entre eles é atrativa . Caso as cargas tenham sinais iguais como elétron-elétron ou próton- próton a força entre eles é repulsiva. \n",
    "   Generalizando o caso acima , a força eletrostática sobre uma carga Q devido a um conjunto de N cargas discretas é dada pela soma das forças vetorialmente que as cargas discretas fazem em Q  : \n",
    "\n",
    "\\begin{align}\\label{Fcoul2}\n",
    "\t\\vec{{F}}_{Q}  =  \\vec{{F}}_{1} + \\vec{{F}}_{2} + ... + \\vec{{F}}_{N} = \\sum_{i=1}^{N} \\vec{{F}}_{qi}\n",
    "\t  = \\dfrac{Q}{4\\pi\\epsilon_{0}} \n",
    "\t \\sum_{i=1}^{N} {q_{i}}\t\n",
    "     \\dfrac{(\\vec{{r}}-\\vec{{r}}_{i})}{{\\left|\\vec{{{r}}}-\\vec{{r}}_{i}\\right|^{3}}}\n",
    "\\end{align}\n",
    "    \n",
    "   Agora suponha que uma particula de Massa M e Carga Q é acelerada , para uma 'zona de interação' ,onde há N cargas distribuidas aleatoriamente como descrito na generalização acima. Nessa situação a segunda lei de Newton diz que a soma das forçãs externas é igual ao produto da massa (M) da carga pela sua aceleração :\n",
    "    \n",
    "\\begin{align}\\label{Fcoul_Fnewt}\n",
    "    \\ddot{\\vec{S}}= \\vec{a} =  \\dfrac{Q}{4\\pi\\epsilon_{0}M} \\sum_{i=1}^{N} {q_{i}}\n",
    "    \\dfrac{(\\vec{{r}}-\\vec{{r}}_{i})}{{\\left|\\vec{{{r}}}-\\vec{{r}}_{i}\\right|^{3}}}\n",
    "\\end{align}\n",
    "\n",
    "   Reescrevendo a equação acima para um caso bidimencional: \n",
    "\n",
    "\\begin{align}\n",
    "    \\ddot{x} & = a_{x} = \\dfrac{Q}{4\\pi\\epsilon_{0}M} \\sum_{i=1}^{N} \n",
    "    \\dfrac{q_{i} (x-x_{i})}{\\left[(x-x_{i})^{2}+(y-y_{i})^{2} \\right]^{3/2}} \\label{aceleração_x} \n",
    "    \\\\\n",
    "    \\ddot{y} & = a_{y} = \\dfrac{Q}{4\\pi\\epsilon_{0}M} \\sum_{i=1}^{N}\n",
    "    \\dfrac{q_{i} (y-y_{i})}{\\left[(x-x_{i})^{2}+(y-y_{i})^{2} \\right]^{3/2}} \\label{aceleração_y}\n",
    "\\end{align}\n",
    "    \n",
    "   O proposito do trabalho é resolver computacionalmente essas equaçães de segundo grau ,dado os valores de contorno do problema . "
   ]
  },
  {
   "cell_type": "markdown",
   "metadata": {},
   "source": [
    "# Método Computacional\n",
    "\n",
    "   Muitos dos problemas físicos , podem ser modelados atravez de uma equações diferenciais, a resolução dessas equações levam ao maior entendimento do problema fiśico. Desses problemas muitos tornam se extramente dificieis de resolver analiticamente , seja por se tratarem de problemas arduos de varias equações, sejam por não terem soluçoes analiticas e por essa dificuldade é nessessario fazer uma analise numerica .\n",
    "   No estudo das equaçãoes apresentadas acima, o metodo computacional mais interresante é o Metodo de Runge-Kutta, mais especificamente o de Quarta Ordem (RK4). O metodo pertence a uma familia de metodos iterativos, no qual é nessessario discretização do dominio .As RK pertecem a uma rotina chamada de metodo de Euler(método de passo único). \n",
    "   As analises numericas de RK consiste em ter derivadas de primeira e os valores de contorno do problema, a partir dessas fazer passos simples afim de se obter a soluçoes e essas soluçoes podem apresentar aproximações com pequenos erros . O método de Runge-Kutta de quarta ordem possui erro de truncamento local ordem $O(h^{3})$ e erro de truncamento global ordem $O(h^{4})$, daí o nome do método, Runge-Kutta de quarta ordem ."
   ]
  },
  {
   "cell_type": "markdown",
   "metadata": {},
   "source": [
    "## Método de Runge-Kutta de Quarta Ordem\n",
    "\n",
    "###  Problema de Valor Inicial (PVI)\n",
    "\n",
    "   Suponha que a equação que descreve uma EDO de sugunda ordem,possa ser escrita genericamente por: \n",
    "    \n",
    "\\begin{equation}\n",
    "   y ''(x) = \\frac{d^2y}{dx^2} = f(x,y,y ')\n",
    "\\end{equation}\n",
    "    \n",
    "   Para obter soluçoes particulares é preciso conhecer os parametros iniciais no qual sabe-se onde a curva da solução tocara ( comumente chamado de problema do valor inicial:PVI). Suponha que eles sejam dados por: \n",
    "    \n",
    "\\begin{align}\n",
    "    \\left\\lbrace\n",
    "        \\begin{split}\n",
    "            y' & = f(x,y) \\\\\n",
    "            y(t_{0}) & = y_{0} \\\\\n",
    "            & a \\leq  x \\leq b \\qquad\\qquad \\text{e} \\qquad\\qquad -\\infty \\leq y \\leq \\infty \\\\\n",
    "        \\end{split}\n",
    "    \\right.\n",
    "\\end{align}\n",
    "\n",
    "   A solução do PVI y=y(x) deve ser continua e diferenciavel para que satisfaça a equaçao acima. Sera descrito a seguir como encontrar essas soluçoes yi , atravez de metodo numerico que aproxima um y(xi) do valor exato , com erros de quarta ordem . Para isso, considerando  y(xi)  nos pontos:\n",
    "\\begin{align}\n",
    "    x_{i+1} & = x_{i} + h, \\qquad\\qquad \n",
    "    \\text{com} \\qquad\\qquad \n",
    "    h=\\frac{b-a}{n} \\qquad\\qquad \n",
    "    \\text{onde,}   \\qquad\\qquad \n",
    "    i = 0,1,2,\\ldots\n",
    "\\end{align}\n",
    "\n",
    "   Especificando, $[a,b]$ é o intervalo que contém $x_{i}$, $n$ é o número de subintervalos, e $h$ o passo. Com isso, a solução numérica do PVI será um conjunto de pares $(x_{i},y_{i})$, em que $y_{i} \\approx y_(x_{i})$. De modo que, quanto menor o valor de $h$ mais precisa sera a exatidão dos resultados.\n",
    "   Para o caso de uma EDO apresentada acima o metodo de RK propoem uma solução : \n",
    "\\begin{equation}\n",
    "   y_{n+1} = y_n + h \\cdot \\left[ y'_{n} +\\frac{1}{6}(k_1 + k_2 + k_3) \\right] + O(h^5)\n",
    "\\end{equation} \n",
    "    \n",
    "   na qual\n",
    "\\begin{equation}\n",
    "   y'_{n+1} = y'_n + \\frac{1}{6}\\left(k_1 + 2k_2 + 2k_3 + k_4 \\right) \n",
    "\\end{equation}\n",
    "    \n",
    "   com\n",
    "\\begin{align*}\n",
    "k_1 &= h \\cdot f(x_n, y_n,y'_n )\\\\\n",
    "k_2 &= h \\cdot f\\big(x_n +\\frac{h}{2}, y_n + \\frac{h}{2}y'_{n} +\\frac{h}{8}k_1 , y'_n + \\frac{k_1}{2}\\big)\\\\\n",
    "k_3 &= h \\cdot f\\big(x_n +\\frac{h}{2}, y_n + \\frac{h}{2}y'_{n} +\\frac{h}{8}k_2 , y'_n + \\frac{k_2}{2}\\big)\\\\\n",
    "k_4 &= h \\cdot f\\big(x_n + h, y_n + hy'_n +\\frac{h}{2}k_3, y'_n + k_3 \\big)\\\\\n",
    "\\end{align*}"
   ]
  },
  {
   "cell_type": "markdown",
   "metadata": {},
   "source": [
    "# Implementação Computacional\n",
    "    \n",
    "   A fim de se acelerar o processamento dos dados numericos , sera ultilizado a linguagem de Fortran para ser feito o programa que pretende estudar espalhamento. os graficos das trajetorias serão feitos com o gnuplot.\n",
    "   \n",
    "   `OBSERVAÇÃO INFORMAL: Pode ser que o programa esteje muito comentado em pontos especificos , mas , isso se deve ao fato de que eu aprendia a funcionalidade e para ficar mais claro eu o explicava anteriormente. Ajudou bastante para a fixação do conteudo e não esquecer o porque de eu fazer de tal modo.`\n",
    "    "
   ]
  },
  {
   "cell_type": "markdown",
   "metadata": {},
   "source": [
    "## Diretorios \n",
    "\n",
    "   Abaixo , foi escrito um codigo, no qual tem por objetivo criar pastas. As pastas criadas servirao de diretorio, onde estarão todos os arquivos referentes ao programa."
   ]
  },
  {
   "cell_type": "code",
   "execution_count": 33,
   "metadata": {
    "ExecuteTime": {
     "end_time": "2020-02-29T12:22:57.136031Z",
     "start_time": "2020-02-29T12:22:56.678409Z"
    }
   },
   "outputs": [],
   "source": [
    "! mkdir -p src\n",
    "! mkdir -p src/codes\n",
    "! mkdir -p src/outputs\n",
    "! mkdir -p src/inputs"
   ]
  },
  {
   "cell_type": "markdown",
   "metadata": {},
   "source": [
    "## Fortran"
   ]
  },
  {
   "cell_type": "markdown",
   "metadata": {},
   "source": [
    "### Módulo: PRECISÃO\n",
    "  O modulo a seguir será o de `PRECISÃO` , onde é possivel determinar a precisão a qualquer varialvel , sendo ela do tipo `REAL` ou `INTEGER`.\n",
    "  Em principio eu poderia ter escrito o modo precisao ,junto com um modolo de constantes(proximo modulo) , mas optei por não fazer , afim de se ter uma melhor organização. \n",
    "   "
   ]
  },
  {
   "cell_type": "code",
   "execution_count": 1,
   "metadata": {
    "ExecuteTime": {
     "end_time": "2020-02-29T12:48:04.703089Z",
     "start_time": "2020-02-29T12:48:04.695870Z"
    }
   },
   "outputs": [
    {
     "name": "stdout",
     "output_type": "stream",
     "text": [
      "Overwriting src/codes/PRECISAO.f95\n"
     ]
    }
   ],
   "source": [
    "%%writefile src/codes/PRECISAO.f95\n",
    "MODULE PRECISAO\n",
    "\n",
    "!******************** POSSÍVEIS TIPOS DE REAIS **************************************\n",
    "  \n",
    "  INTEGER, PARAMETER :: sp  = SELECTED_REAL_KIND(5,30)    ! PRECISÃO: simples\n",
    "  INTEGER, PARAMETER :: pr  = SELECTED_REAL_KIND(8,100)   ! PRECISÃO: dupla\n",
    "  INTEGER, PARAMETER :: qp  = SELECTED_REAL_KIND(18,400)  ! PRECISÃO: quadrupla\n",
    "  INTEGER, PARAMETER :: op  = SELECTED_REAL_KIND(25,4000) ! PRECISÃO: octupla\n",
    "  INTEGER, PARAMETER :: dp  = pr\n",
    "            \n",
    "!******************** POSSÍVEIS TIPOS DE INTEIROS ***********************************\n",
    "  \n",
    "  INTEGER, PARAMETER :: ip1 = selected_int_KIND(2)\n",
    "  INTEGER, PARAMETER :: ip2 = selected_int_KIND(4)\n",
    "  INTEGER, PARAMETER :: ip3 = selected_int_KIND(8)\n",
    "  INTEGER, PARAMETER :: ip4 = selected_int_KIND(20)\n",
    "\n",
    "END MODULE PRECISAO\n",
    "!******************** FIM ***********************************************************"
   ]
  },
  {
   "cell_type": "markdown",
   "metadata": {
    "ExecuteTime": {
     "end_time": "2020-02-03T13:56:37.191566Z",
     "start_time": "2020-02-03T13:56:37.186880Z"
    }
   },
   "source": [
    "### Módulo: CONSTANTES\n",
    "\n",
    "   A certas constantes que será usada frenquentemente no problema , e poderemos associar seu nome a um valor através do atributo `PARAMETER` . O valor dessa constante não poderá ser alterada durante a execução do programa e qualquer tentativa para modifica-la levará a ocorrencia de erro de compilação.\n",
    "   \n",
    "   No problema físico a ser estudado, há certas constantes interressantes : **Constante de Coulomb** , **Carga elementar**,**Constantes relacionadas a Distancias e Tempos caracteristicos do problema** e **Unidade de Massa Atômica**. Para fins de Adimensionalização do problema foi definido uma constante **a** que recebera o produto dessas constantes. Tambem foi definido uma constante **Graus de liberdade do sistema**, a qual pode ser mudada caso se queira um problema de mais dimenções.  "
   ]
  },
  {
   "cell_type": "code",
   "execution_count": 2,
   "metadata": {
    "ExecuteTime": {
     "end_time": "2020-02-29T12:48:04.945835Z",
     "start_time": "2020-02-29T12:48:04.707763Z"
    }
   },
   "outputs": [
    {
     "name": "stdout",
     "output_type": "stream",
     "text": [
      "Overwriting src/codes/CONSTANTES.f95\n"
     ]
    }
   ],
   "source": [
    "%%writefile src/codes/CONSTANTES.f95\n",
    "MODULE CONSTANTES\n",
    "\n",
    "!******************** MÓDULO EXTERNO ***************************************************\n",
    "\n",
    " USE PRECISAO\n",
    "\n",
    "!******************** CONSTANTES DO PROBLEMA **************************************************\n",
    " \n",
    "  REAL (KIND = dp), PARAMETER :: k  = 8.998e+9_dp         ! Constante de Coulomb (N.m^2/C^2)\n",
    "  REAL (KIND = dp), PARAMETER :: e  = 1.602e-19_dp        ! Carga Elementar (Coulomb)\n",
    "  REAL (KIND = dp), PARAMETER :: u  = 1.66e-27_dp         ! Unidade de Massa Atômica (kilograma)\n",
    "  REAL (KIND = dp), PARAMETER :: kt = 1.0e-12_dp          ! tempos (segundo)\n",
    "  REAL (KIND = dp), PARAMETER :: ks = 1.0e-9_dp           ! distancias interatomicas (metro)  \n",
    "  REAL (KIND = dp), PARAMETER :: a  = (k*(e*e)*(kt*kt))/(u*(ks*ks*ks)) !cte de adimensionalização      \n",
    "\n",
    "!******************** CONSTANTES RELACIONADA A RUNGE-KUTTA **************************************************\n",
    "\n",
    "  INTEGER(KIND = ip3), PARAMETER :: D = 2                 ! Graus de liberdade do sistema(numero de dimenções)  \n",
    "\n",
    "END MODULE CONSTANTES\n",
    "!******************** FIM *********************************************************************"
   ]
  },
  {
   "cell_type": "markdown",
   "metadata": {
    "ExecuteTime": {
     "end_time": "2020-02-03T16:36:32.764225Z",
     "start_time": "2020-02-03T16:36:32.755391Z"
    }
   },
   "source": [
    "   ### Módulo: VALORES DE ENTRADA\n",
    "\n",
    "   O modulo criado a seguir será `VALORES_DE_ENTRADA`, esse modulo é responsavel por declarar os valores das variaveis do problema: **Numero de Centros Espalhadores** `(ni)`, a **Carga** da partícula incidente `(Q)` e as dos centros espalhadores `(qi)`, a **Massa** da partícula incidente `(M)`, as **Posições** no plano de cada centro espalhador `(cxi,cyi)`, juntamente com as condições iniciais da particula incidente. \n",
    "   Os valores dessas variaveis devem ser atribuidadas por um arquivo de entrada , e posteriormente lidas no proprio modulo. Ao momento que o usuario entra com os valores de entrada, esses valores serão informados na tela para a confirmação visual dos valores. "
   ]
  },
  {
   "cell_type": "code",
   "execution_count": 3,
   "metadata": {
    "ExecuteTime": {
     "end_time": "2020-02-29T12:48:05.110786Z",
     "start_time": "2020-02-29T12:48:04.948803Z"
    }
   },
   "outputs": [
    {
     "name": "stdout",
     "output_type": "stream",
     "text": [
      "Overwriting src/codes/VALORES_DE_ENTRADA.f95\n"
     ]
    }
   ],
   "source": [
    "%%writefile src/codes/VALORES_DE_ENTRADA.f95\n",
    "MODULE VALORES_DE_ENTRADA\n",
    "\n",
    "!******************** MÓDULO EXTERNO ***************************************************\n",
    "\n",
    " USE PRECISAO\n",
    " USE CONSTANTES\n",
    "!******************** VALORES DE ENTRADA DA FUNÇÃO ***************************************\n",
    "    \n",
    "  IMPLICIT NONE                              ! Todas Variáveis São Explicitadas  \n",
    " \n",
    " INTEGER (KIND = ip3)              :: Q      ! Carga da Partícula Incidente\n",
    " INTEGER (KIND = ip3)              :: M      ! Massa da Partícula Incidentes \n",
    " INTEGER (KIND = ip3)              :: n      ! Numero de interações\n",
    " REAL (KIND = dp)                  :: XQ0    ! Posição inicial da Carga Q em \"x\" \n",
    " REAL (KIND = dp)                  :: YQ0    ! Posição inicial da Carga Q em \"y\" \n",
    " REAL (KIND = dp)                  :: Vx0    ! Velocidade inicial da Carga Q em \"x\" \n",
    " REAL (KIND = dp)                  :: Vy0    ! Velocidade inicial da Carga Q em \"y\" \n",
    " REAL (KIND = dp)                  :: T0     ! Tempo inicial da Carga Q \n",
    " REAL (KIND = dp)                  :: Tf     ! Tempo final da Carga Q \n",
    " INTEGER (KIND = ip3)              :: ni     ! Numero de Centros Espalhadores\n",
    " INTEGER (KIND = ip3), Dimension(:), ALLOCATABLE :: qi  ! Cargas dos Centros Espalhadores\n",
    " REAL (KIND = dp), Dimension(:), ALLOCATABLE     :: cxi ! Posição \"x_i\" dos Centros Espalhadores\n",
    " REAL (KIND = dp), Dimension(:), ALLOCATABLE     :: cyi ! Posição \"y_i\" dos Centros Espalhadores\n",
    "\n",
    "!******************** LEITURA DOS DADOS DE ENTRADA ***************************************\n",
    "  CONTAINS\n",
    "    \n",
    "    SUBROUTINE SUB_VALORES_DE_ENTRADA(ARQV)\n",
    "!    ###### MÓDULO EXTERNO #############\n",
    "      USE PRECISAO\n",
    "      USE CONSTANTES\n",
    "        \n",
    "    IMPLICIT NONE\n",
    "!     ###### VARIAVEIS INTERNAS #############\n",
    "        CHARACTER(LEN=*)     :: ARQV\n",
    "        INTEGER (KIND = ip3) :: i                         ! Variavel que auxilia na contagem do vetor\n",
    "        INTEGER (KIND = ip3) :: A_STAT                    ! Variavel que auxilia no erro de alocação\n",
    "                \n",
    "        OPEN(UNIT=11, FILE=ARQV , FORM='FORMATTED', STATUS='OLD')\n",
    "            \n",
    "            READ(11,*) Q      ! Carga da Partícula Incidente\n",
    "            READ(11,*) M      ! Massa da Partícula Incidentes \n",
    "            READ(11,*) n      ! Numero maximo de interações\n",
    "            READ(11,*) XQ0    ! Posição inicial da Carga Q em \"x\"\n",
    "            READ(11,*) YQ0    ! Posição inicial da Carga Q em \"y\"\n",
    "            READ(11,*) Vx0    ! Velocidade inicial da Carga Q em \"x\"\n",
    "            READ(11,*) Vy0    ! Velocidade inicial da Carga Q em \"y\"\n",
    "            READ(11,*) T0     ! Tempo inicial da Carga Q\n",
    "            READ(11,*) Tf     ! Tempo final da Carga Q\n",
    "            READ(11,*) ni     ! Numero dos Centros Espalhadores\n",
    "\n",
    "!      ### FAZENDO ALOCAÇÃO, PARA POSSIVEL USO DA MEMORIA ###\n",
    "\n",
    "        ALLOCATE(cxi(ni), STAT=A_STAT)\n",
    "            IF(A_STAT /= 0) PRINT*, '===> Erro na alocação nas componentes \"x\" dos centros espalhadores <==='\n",
    "        ALLOCATE(cyi(ni), STAT=A_STAT)\n",
    "            IF(A_STAT /= 0) PRINT*, '===> Erro na alocação nas componentes \"y\" dos centros espalhadores <==='\n",
    "        ALLOCATE(qi(ni), STAT=A_STAT)\n",
    "            IF(A_STAT /= 0) PRINT*, '===> Erro na alocação nas componentes \"y\" dos centros espalhadores <==='\n",
    "\n",
    "            READ(11,*) (qi(i), i=1,ni)   ! Cargas dos Centros Espalhadores\n",
    "            READ(11,*) (cxi(i), i=1,ni)   ! Posição \"x_i\" dos Centros Espalhadores\n",
    "            READ(11,*) (cyi(i), i=1,ni)   ! Posição \"y_i\" dos Centros Espalhadores\n",
    "\n",
    "        CLOSE (UNIT = 11, STATUS = 'KEEP')\n",
    "!      ### INFORMAR OS VALORES DAS VARIAVEIS DE ENTRADA , NA TELA  ###\n",
    "        \n",
    "            PRINT*, 'a     ='    ,a,'constante de adimensionalização'  \n",
    "            PRINT*, 'Q     ='    ,Q,'Carga da Partícula Incidente(Coulomb)'\n",
    "            PRINT*, 'M     ='    ,M,'Massa da Partícula Incidentes(kilograma)'\n",
    "            PRINT*, 'n     ='    ,n,'Numero de Interações do Método'\n",
    "            PRINT*, 'XQ    ='    ,XQ0,'Posição inicial da Carga Q em \"x\"(Metro)'\n",
    "            PRINT*, 'YQ(:) ='    ,YQ0,'Posição inicial da Carga Q em \"Y\"(Metro)'\n",
    "            PRINT*, 'Vxi   ='    ,Vx0,'Velocidade inicial da Carga Q em \"x\"(Metro por Segundo)'\n",
    "            PRINT*, 'Vyi   ='    ,Vy0,'Velocidade inicial da Carga Q em \"y\"(Metro por Segundo)'\n",
    "            PRINT*, 'T0    ='    ,T0,'Tempo inicial da Carga Q(Segundos)'\n",
    "            PRINT*, 'Tf    ='    ,Tf,'Tempo final da Carga Q (Segundos)'\n",
    "            PRINT*, 'ni    ='    ,ni,'Numero dos Centros Espalhadores'\n",
    "            PRINT*, 'qi(:) ='    ,qi,'Cargas dos Centros Espalhadores(Coulomb)'\n",
    "            PRINT*, 'cxi(:)='    ,cxi,'Posição \"x_i\" dos Centros Espalhadores(Metro)'\n",
    "            PRINT*, 'cyi(:)='    ,cyi,'Posição \"y_i\" dos Centros Espalhadores(Metro)'\n",
    "            \n",
    "    END SUBROUTINE SUB_VALORES_DE_ENTRADA\n",
    "\n",
    "!******************** FUNÇÃO ALEATORIA ***************************************\n",
    "\n",
    "!      ### DEFININDO AS VARIAVEIS INTERNAS E CHAMANDO NUMEROS ALEATORIOS ###\n",
    "!  REAL, DIMENSION(:),   ALLOCATABLE :: Vet1\n",
    "!      ALLOCATE (Vet1(ni), STAT = A_STAT )\n",
    "!      IF(A_STAT /= 0) PRINT*, 'Memoria Insuficiente para alocar os vetores aleatorios'\n",
    "!  CALL RANDOM_NUMBER(Vet1)\n",
    "!    Vet1 = NINT( 10 * Vet1 )\n",
    "\n",
    "!      ### GERANDO OS VALORES ALEATORIOS , SE A CARGAS qi FOREM ZERO ###\n",
    "!  IF qi(:)=0_ip3 THEN\n",
    "!    Vet1 = qi\n",
    "!   ELSE\n",
    "!    CONTINUE\n",
    "!  END IF\n",
    "!### OBSERVAÇÃO : eu pretendia implementar o caso que as particulas qi(fixas)e suas repectivas posições eram dadas  \n",
    "!###(continuação) aleatoriamente, mas pelo tempo não obtive sucesso , acima eu deixei a tentativa ... mas ela deu  \n",
    "!###(continuação) erros que ao tentar resolver(creio que seja na escrita da variaveis). Pela experiencia que tive \n",
    "!###(continuação) na materia, sei que não deve ser dificil de resolver . \n",
    "\n",
    "END MODULE VALORES_DE_ENTRADA\n",
    "\n",
    "!******************** FIM **************************************************************"
   ]
  },
  {
   "cell_type": "markdown",
   "metadata": {},
   "source": [
    "### FUNÇÃO : Equações Diferenciais do Problema\n",
    "    \n",
    "   Na sequencia , será feita um modulo que ira gerar um sistema de **Equações Diferenciais Ordinárias** através da `FUNÇÃO_COULOMB_NEWTON` correspondete ao problema físico. A função chamara `Y` , a saída é dada pela propria. As EDOs serão representadas pela variavel `Y(X)` .\n",
    "   A representação das EDOs é dado pela variavel Y e posteriormente resolvidas pelo modulo EDOs. Já a variavel X representa os argumentos da função de Y , logo X(x, $\\dot{x}$, y, $\\dot{y}$)."
   ]
  },
  {
   "cell_type": "code",
   "execution_count": 4,
   "metadata": {
    "ExecuteTime": {
     "end_time": "2020-02-29T12:48:05.286165Z",
     "start_time": "2020-02-29T12:48:05.114266Z"
    }
   },
   "outputs": [
    {
     "name": "stdout",
     "output_type": "stream",
     "text": [
      "Overwriting src/codes/FUNÇÃO_COULOMB_NEWTON.f95\n"
     ]
    }
   ],
   "source": [
    "%%writefile src/codes/FUNÇÃO_COULOMB_NEWTON.f95\n",
    "MODULE FUNCAO_COULOMB_NEWTON\n",
    "\n",
    "!******************** MÓDULOS EXTERNOS ***************************************\n",
    " \n",
    " USE PRECISAO \n",
    " USE CONSTANTES\n",
    " USE VALORES_DE_ENTRADA\n",
    "\n",
    "!******************** VARIAVEIS INTERNAS DA FUNÇÃO *****************************\n",
    " \n",
    "   IMPLICIT NONE                                      ! Todas Variáveis São Explicitadas\n",
    "    CONTAINS                                          ! O Modulo Apresenta-se com Funções ou Subrotinas      \n",
    " \n",
    "   FUNCTION Y(X)\n",
    "   \n",
    "    REAL (KIND = dp), DIMENSION(:),INTENT(IN)  :: X   ! Entrada da FUNÇÃO\n",
    "    REAL (KIND = dp), DIMENSION(SIZE(X))       :: Y   ! Saída da FUNCÃO\n",
    " \n",
    "!******************** VARIAVEIS DOS VERTORES/DISTACIA *****************************\n",
    "\n",
    "    REAL (KIND = dp)     :: D_Qqi                     ! Inv_distancia_Q a qi_^3   \n",
    "    REAL (KIND = dp)     :: F_x                       ! semi - força ao longo do eixo 'x'\n",
    "    REAL (KIND = dp)     :: F_y                       ! semi - força ao longo do eixo 'y'\n",
    "    REAL (KIND = dp)     :: R                         ! Variavel auxiliar na diferença dos pontos em 'x'\n",
    "    REAL (KIND = dp)     :: S                         ! Variavel auxiliar na diferença dos pontos em 'y'\n",
    "    INTEGER (KIND = ip3) :: i                         ! Variavel auxiliar nº de contagem \n",
    "    \n",
    "!******************** TRATANDO OS VALORES DE ENTRADA *****************************\n",
    "\n",
    "   F_x = 0.0_dp                                 ! Atribuindo valor inicial a semi - força 'x'\n",
    "   F_y = 0.0_dp                                 ! Atribuindo valor inicial a semi - força 'y'         \n",
    "\n",
    " DO i=1, ni      \n",
    "        R = X(1) - cxi(i)\n",
    "        S = X(3) - cyi(i)\n",
    "!                     ### INVERSO DA DISTANCIA ENTRE 'Q e qi' ELEVADO POR (3) ###\n",
    "  \n",
    "   D_Qqi = qi(i)/((R*R) + (S*S))**(1.5) ! LOOP temporal, para cada distancia 'Q e qi' \n",
    "\n",
    "!                     ### ATRIBUIÇOES INICIAIS ###  \n",
    "                                         \n",
    "        F_x = D_Qqi*(R) + F_x\n",
    "        F_y = D_Qqi*(S) + F_y\n",
    "                                                              !Encerando o LOOP temporal\n",
    "  END DO\n",
    "!******************** SISTEMA DE EDOs ****************************************\n",
    "      Y(1) = X(2)                                        \n",
    "      Y(2) = (a/M)*(Q)*(F_x)\n",
    "      Y(3) = X(4)                                        \n",
    "      Y(4) = (a/M)*(Q)*(F_y)                   \n",
    "\n",
    " END FUNCTION Y\n",
    "\n",
    "END MODULE FUNCAO_COULOMB_NEWTON                \n",
    "!******************** FIM **************************************************************"
   ]
  },
  {
   "cell_type": "markdown",
   "metadata": {},
   "source": [
    "### MODULO : Equações Diferenciais Ordinarias\n",
    "    \n",
    "   O modulo a ser criado a seguir é o de EDOs . Nele sera implementado o metodo de Runge Kutta de quarta ordem , ou outro metodo posteriormente, que possa ser adequado ao problema. O modulo EDOs tem como objetivo a integração das EDOs geradas no modulo `FUNÇÃO_COULOMB_NEWTON`.\n",
    "   \n",
    "   "
   ]
  },
  {
   "cell_type": "code",
   "execution_count": 5,
   "metadata": {
    "ExecuteTime": {
     "end_time": "2020-02-29T12:48:05.442824Z",
     "start_time": "2020-02-29T12:48:05.289127Z"
    }
   },
   "outputs": [
    {
     "name": "stdout",
     "output_type": "stream",
     "text": [
      "Overwriting src/codes/EDOs.f95\n"
     ]
    }
   ],
   "source": [
    "%%writefile src/codes/EDOs.f95\n",
    "MODULE EDOs\n",
    "\n",
    "!******************** MÓDULOS EXTERNOS ***************************************************\n",
    " \n",
    " USE PRECISAO\n",
    "\n",
    "!************************** VARIÁVEIS DE ALOCAÇÃO NA MATRIZ DO RK4 **********************************\n",
    "\n",
    "   REAL(dp), DIMENSION(:,:), ALLOCATABLE, private :: K            ! Coeficientes usados no método RK4\n",
    "   CONTAINS         \n",
    "!************************** SUBROTINA QUE INFORMA O ERRO DE ALOCAÇÃO **********************************  \n",
    "  SUBROUTINE A_STAT_K(nD) \n",
    "\n",
    "!    ###### MÓDULO EXTERNO #############\n",
    "    USE PRECISAO\n",
    "    IMPLICIT NONE\n",
    "    \n",
    "!    ###### VARIAVEIS INTERNAS #############\n",
    "    INTEGER(KIND = ip3),INTENT(IN)                 :: nD\n",
    "    INTEGER(KIND = ip3)                            :: A_STAT       ! Variavel que auxilia no erro de alocação\n",
    "\n",
    "    \n",
    "!    ###### ALOCANDO K #############\n",
    "    ALLOCATE(K(1:4,1:2*nD), Stat=A_STAT)\n",
    "    IF(A_STAT /= 0) PRINT*, '===> Erro na alocação dos coeficientes de RK4 <===' \n",
    "  END SUBROUTINE A_STAT_K  \n",
    "\n",
    "!************************** SUBROTINA QUE DESALOCA O ERRO DE ALOCAÇÃO **********************************\n",
    "  \n",
    "  SUBROUTINE DES_A_STAT_K(A_STAT) \n",
    "!    ###### MÓDULO EXTERNO #############\n",
    "    USE PRECISAO\n",
    "    \n",
    "!    ###### VARIAVEIS INTERNAS #############\n",
    "    IMPLICIT NONE\n",
    "    INTEGER(ip3), INTENT(OUT) :: A_STAT                            !verificação de êxito na alocalção\n",
    "\n",
    "!    ###### DESALOCANDO K #############\n",
    "    DEALLOCATE(K, Stat=A_STAT)\n",
    "  END SUBROUTINE DES_A_STAT_K\n",
    "\n",
    "!************************** RUNGE KUTTA DE 4 ORDEM **********************************\n",
    "\n",
    "   SUBROUTINE rk4(Y,X,T,T0,Tf,n)\n",
    "    \n",
    "    IMPLICIT NONE                                          ! Não há variáveis implícitas\n",
    "    \n",
    "    REAL (KIND = dp), DIMENSION(:,:), INTENT(INOUT)  :: X  ! Representa as EDOs do problema \n",
    "    REAL (KIND = dp), DIMENSION(:),   INTENT(OUT)    :: T  ! Tempo de simulação\n",
    "    REAL(KIND = dp),INTENT(IN)                       :: T0 ! Tempos inicial de simulação\n",
    "    REAL(KIND = dp),INTENT(IN)                       :: Tf ! Tempos final de simulação        \n",
    "    REAL (KIND = dp)                                 :: H  ! Tamanho da discretização \n",
    "    INTEGER (KIND = ip3)                             :: j  ! Variavel Axiliar de contagem na RK4\n",
    "    INTEGER(KIND = ip3),INTENT(IN)                   :: n  ! Número de iterações do método RK4 \n",
    "\n",
    "!    ###### CRIANDO INTERFACE PARA RK4 #############\n",
    "\n",
    " INTERFACE\n",
    "   FUNCTION Y(Z)\n",
    " \n",
    "!    ###### MÓDULO EXTERNO #############\n",
    "    USE PRECISAO\n",
    "    IMPLICIT NONE\n",
    "\n",
    "!    ###### VARIAVEIS INTERNAS #############   \n",
    "     \n",
    "     REAL(KIND = dp),DIMENSION(:),INTENT(IN)  :: Z\n",
    "     REAL(KIND = dp),DIMENSION(size(Z))       :: Y\n",
    "   \n",
    "   END FUNCTION Y\n",
    " END INTERFACE\n",
    "\n",
    "!    ###### CRIANDO PASSOS PARA RK4 #############\n",
    "\n",
    "    K(:,:) = 0.0_dp\n",
    "    H = (Tf-T0)/(REAL(n-1))                        ! Definindo o passo do método RK4\n",
    "\n",
    "!    ###### INICIANDO OS PASSOS DA RK4 E ESCREVENDO O MESMO #############\n",
    "    \n",
    "    DO j = 1,n-1\n",
    "       T(j+1) = T(1)+H*j                           ! Definindo o passo temporal do método RK4                                                       \n",
    "       K(1,:) = H*Y(X(j,:))\n",
    "       K(2,:) = H*Y(X(j,:) + 0.5*K(1,:))            \n",
    "       K(3,:) = H*Y(X(j,:) + 0.5*K(2,:))            \n",
    "       K(4,:) = H*Y(X(j,:) + K(3,:))\n",
    "    \n",
    "       X(j+1,:) = X(j,:) + (K(1,:) + 2*K(2,:) + 2*K(3,:) + K(4,:))/6\n",
    "     \n",
    "    END DO\n",
    "   END SUBROUTINE rk4\n",
    "\n",
    "END MODULE EDOs\n",
    "!******************** FIM **************************************************************"
   ]
  },
  {
   "cell_type": "markdown",
   "metadata": {},
   "source": [
    "### PROGRAMA PRINCIPAL\n",
    "\n",
    "   Chega-se agora ao programa principal , que é quem compilara as informaçoes do prgrama. Anteriormente foi criado modulos , que serão ultilizados como 'bibliotecas' para resolver o programa principal."
   ]
  },
  {
   "cell_type": "code",
   "execution_count": 6,
   "metadata": {
    "ExecuteTime": {
     "end_time": "2020-02-29T12:48:05.600084Z",
     "start_time": "2020-02-29T12:48:05.444793Z"
    }
   },
   "outputs": [
    {
     "name": "stdout",
     "output_type": "stream",
     "text": [
      "Overwriting src/codes/main.f95\n"
     ]
    }
   ],
   "source": [
    "%%writefile src/codes/main.f95\n",
    "PROGRAM MAIN\n",
    "\n",
    "!******************** MÓDULOS EXTERNOS ***************************************************\n",
    " \n",
    " USE PRECISAO\n",
    " USE VALORES_DE_ENTRADA\n",
    " USE CONSTANTES\n",
    " USE FUNCAO_COULOMB_NEWTON\n",
    " USE EDOs\n",
    "    \n",
    "!************************** VARIÁVEIS ************************************************************\n",
    " \n",
    " IMPLICIT NONE\n",
    " \n",
    "    LOGICAL :: EXISTE_ARQV\n",
    "    REAL (KIND = dp), DIMENSION(:,:), ALLOCATABLE  :: X  ! Representa as EDOs do problema \n",
    "    REAL (KIND = dp), DIMENSION(:), ALLOCATABLE    :: T  ! tempo\n",
    "    CHARACTER(len=80)       ::  ARQV                     ! Nome do input\n",
    "    CHARACTER(len=80)       ::  DIR                      ! diretorio onde se localiza o arquivo de saida\n",
    "    CHARACTER(len=80)       ::  ARQ                      ! Nome do arquivo de saida\n",
    "    CHARACTER(len=10)       ::  Q1                       ! Carga da Partícula Incidente\n",
    "    CHARACTER(len=10)       ::  M1                       ! Massa da Partícula Incidente \n",
    "    CHARACTER(len=10)       ::  NCE                      ! Numero de Centros Espalhadores\n",
    "    INTEGER (KIND = ip3)    ::  erro                     ! Variavel auxiliar para informar o nº do erro\n",
    "    INTEGER (KIND = ip3)    ::  j                        !\n",
    "    INTEGER (KIND = ip3)    :: A_STAT                    ! Variavel que auxilia no erro de alocação\n",
    "    \n",
    "!************************** ARQUIVOS DE ENTRADA ************************************************************\n",
    " \n",
    "DO\n",
    "  WRITE (*,*) \"Entre com o nome do arquivo de entrada: \"\n",
    "   READ  (*,*, ERR = 10, IOSTAT = erro) ARQV\n",
    "10  IF (erro==0) THEN \n",
    "     ARQV=ADJUSTL(TRIM(ARQV))//'.inp'\n",
    "      INQUIRE (FILE=ARQV, EXIST=EXISTE_ARQV) ! Verificando a existência do arquivo\n",
    "    IF (.NOT.EXISTE_ARQV) THEN\n",
    "     WRITE (*,*) \"Arquivo não encontrado: \", ARQV\n",
    "       CYCLE                                                   ! Volta ao inicio do loop\n",
    "     ELSE \n",
    "       EXIT                                                    ! Sai do loop\n",
    "    END IF\n",
    "     ELSE \n",
    "      WRITE (*,*) 'Falha. Pesquisar do erro: #', erro\n",
    "       CYCLE                                                   ! Volta ao inicio do loop\n",
    "   END IF        \n",
    "END DO  \n",
    "\n",
    "!          ### CHAMANDO O ARQUIVO DE VALORES ###\n",
    "    \n",
    "        CALL  SUB_VALORES_DE_ENTRADA(ARQV)\n",
    "\n",
    "!          ### FAZENDO ALOCAÇÃO, PARA POSSIVEL USO DA MEMORIA ###\n",
    "\n",
    "        ALLOCATE(T(1:n), STAT=A_STAT)\n",
    "            IF(A_STAT /= 0) PRINT*, '===> Erro na alocação do tempo <==='\n",
    "        ALLOCATE(X(1:n,1:2*D), STAT=A_STAT)\n",
    "            IF(A_STAT /= 0) PRINT*, '===> Erro na alocação das soluçoes <==='\n",
    "\n",
    "!******* DEFININDO AS COMPONENTES DA MATRIZ SOLUÇÃO EQUIVALENTE AS CONDIÇÕES INICIAIS **************************\n",
    "  \n",
    "    X(1,1) = XQ0                     ! Posição inicial em x\n",
    "    X(1,2) = Vx0                     ! Velocidade inicial em x \n",
    "    X(1,3) = YQ0                     ! Posição inicial em y \n",
    "    X(1,4) = Vy0                     ! Velocidade inicial em y\n",
    "    T(1)   = T0                      ! Tempo inicial\n",
    "\n",
    "!******* CHAMANDO O MÉTODO DE RUNGE KUTTA PARA RESOLVER A EDO **************************   \n",
    "\n",
    "        CALL A_STAT_K(D)\n",
    "        CALL rk4(Y,X,T,T0,Tf,n)\n",
    "    \n",
    "!******* ESCREVENDO OS ARQUIVOS DE SAIDA  **************************\n",
    "\n",
    "  WRITE (NCE,'(i3)') ni\n",
    "  WRITE (M1,'(i3)') M\n",
    "  WRITE (Q1,'(i3)') Q\n",
    "    \n",
    "    DIR = 'src/outputs/'\n",
    "    ARQ = TRIM(ADJUSTL(DIR))//\"ni\"//TRIM(ADJUSTL(NCE))//\"_M\"//&\n",
    "    TRIM(ADJUSTL(M1))//\"_Q\"//TRIM(ADJUSTL(Q1))//\".dat\"\n",
    "    \n",
    "!***************** SAÍDA DOS DADOS (OUTPUT) ********************** \n",
    "\n",
    "  OPEN(UNIT=12, FILE=ARQ, FORM='FORMATTED', STATUS='UNKNOWN')\n",
    "  PRINT *, \"O nome do arquivo de saída é:\", ARQ\n",
    " \n",
    "  DO j = 1, n\n",
    "    WRITE (12,*) T(j), X(j,1), X(j,2), X(j,3), X(j,4) ! saída padrão  \n",
    "  END DO\n",
    "    CLOSE(UNIT=12,STATUS='KEEP')\n",
    "  STOP\n",
    "        CALL DES_A_STAT_K(erro) \n",
    "END PROGRAM MAIN\n",
    "!******************** FIM **************************************************************"
   ]
  },
  {
   "cell_type": "code",
   "execution_count": 7,
   "metadata": {
    "ExecuteTime": {
     "end_time": "2020-02-29T12:48:05.788653Z",
     "start_time": "2020-02-29T12:48:05.601936Z"
    }
   },
   "outputs": [
    {
     "name": "stdout",
     "output_type": "stream",
     "text": [
      "Overwriting src/codes/Makefile\n"
     ]
    }
   ],
   "source": [
    "%%writefile src/codes/Makefile\n",
    "# Início do  makefile\n",
    "\n",
    "#Na linha abaixo defini-se o nome do executável\n",
    "PROG =\ttest\n",
    "\n",
    "SRCS =\tCONSTANTES.f95 FUNÇÃO_COULOMB_NEWTON.f95 PRECISAO.f95 EDOs.f95 main.f95 VALORES_DE_ENTRADA.f95\n",
    "\n",
    "OBJS =\tCONSTANTES.o FUNÇÃO_COULOMB_NEWTON.o PRECISAO.o EDOs.o main.o VALORES_DE_ENTRADA.o\n",
    "\n",
    "# Aqui pode-se definir as bibliotecas, por exemplo, a lapack\n",
    "LIBS =\n",
    "\n",
    "F90 = gfortran\n",
    "\n",
    "F90FLAGS = -O3 -Wall -Waliasing -pedantic -Warray-bounds -Wsurprising -Wunderflow -fcheck=all -std=f2008\n",
    "\n",
    "# Opções para link\n",
    "LDFLAGS = -s\n",
    "\n",
    "# Alvo padrão: all\n",
    "all: $(PROG)\n",
    "\n",
    "$(PROG): $(OBJS)\n",
    "\t$(F90) $(LDFLAGS) -o $@ $(OBJS) $(LIBS)\n",
    "\n",
    ".f95.o:\n",
    "\t$(F90) $(F90FLAGS) -c $<\n",
    "\n",
    "# Limpando tudo\n",
    "clean:\n",
    "\trm -f $(PROG) $(OBJS) *.mod\n",
    "\n",
    ".SUFFIXES: $(SUFFIXES) .f95\n",
    "\n",
    "\n",
    "    \n",
    "# As dependencias geradas pelo makedepf90\n",
    "CONSTANTES.o : CONSTANTES.f95 PRECISAO.o \n",
    "EDOs.o : EDOs.f95 FUNÇÃO_COULOMB_NEWTON.o CONSTANTES.o VALORES_DE_ENTRADA.o PRECISAO.o \n",
    "FUNÇÃO_COULOMB_NEWTON.o : FUNÇÃO_COULOMB_NEWTON.f95 VALORES_DE_ENTRADA.o CONSTANTES.o PRECISAO.o \n",
    "main.o : main.f95 EDOs.o FUNÇÃO_COULOMB_NEWTON.o CONSTANTES.o VALORES_DE_ENTRADA.o PRECISAO.o \n",
    "PRECISAO.o : PRECISAO.f95 \n",
    "VALORES_DE_ENTRADA.o : VALORES_DE_ENTRADA.f95 CONSTANTES.o PRECISAO.o \n",
    "# Fim do makefile"
   ]
  },
  {
   "cell_type": "code",
   "execution_count": 8,
   "metadata": {
    "ExecuteTime": {
     "end_time": "2020-02-29T12:48:06.186588Z",
     "start_time": "2020-02-29T12:48:05.791160Z"
    }
   },
   "outputs": [
    {
     "name": "stdout",
     "output_type": "stream",
     "text": [
      "rm -f test CONSTANTES.o FUNÇÃO_COULOMB_NEWTON.o PRECISAO.o EDOs.o main.o VALORES_DE_ENTRADA.o *.mod\n",
      "src/codes:\n",
      "total 148K\n",
      "drwxr-xr-x 2 rafaelalexandre rafaelalexandre 4,0K fev 21 19:24 .\n",
      "drwxr-xr-x 5 rafaelalexandre rafaelalexandre 4,0K fev 21 19:27 ..\n",
      "-rw-r--r-- 1 rafaelalexandre rafaelalexandre 1,1K fev 29 09:48 CONSTANTES.f95\n",
      "-rw-r--r-- 1 rafaelalexandre rafaelalexandre  680 fev 21 19:24 constantes.mod\n",
      "-rw-r--r-- 1 rafaelalexandre rafaelalexandre  944 fev 21 19:24 CONSTANTES.o\n",
      "-rw-r--r-- 1 rafaelalexandre rafaelalexandre 3,5K fev 29 09:48 EDOs.f95\n",
      "-rw-r--r-- 1 rafaelalexandre rafaelalexandre 1,4K fev 21 19:24 edos.mod\n",
      "-rw-r--r-- 1 rafaelalexandre rafaelalexandre 7,9K fev 21 19:24 EDOs.o\n",
      "-rw-r--r-- 1 rafaelalexandre rafaelalexandre 2,5K fev 29 09:48 FUNÇÃO_COULOMB_NEWTON.f95\n",
      "-rw-r--r-- 1 rafaelalexandre rafaelalexandre 1,3K fev 21 19:24 funcao_coulomb_newton.mod\n",
      "-rw-r--r-- 1 rafaelalexandre rafaelalexandre 7,0K fev 21 19:24 FUNÇÃO_COULOMB_NEWTON.o\n",
      "-rw-r--r-- 1 rafaelalexandre rafaelalexandre 3,8K fev 29 09:48 main.f95\n",
      "-rw-r--r-- 1 rafaelalexandre rafaelalexandre  15K fev 21 19:24 main.o\n",
      "-rw-r--r-- 1 rafaelalexandre rafaelalexandre 1,2K fev 29 09:48 Makefile\n",
      "-rw-r--r-- 1 rafaelalexandre rafaelalexandre  871 fev 29 09:48 PRECISAO.f95\n",
      "-rw-r--r-- 1 rafaelalexandre rafaelalexandre  460 fev 21 19:24 precisao.mod\n",
      "-rw-r--r-- 1 rafaelalexandre rafaelalexandre  944 fev 21 19:24 PRECISAO.o\n",
      "-rwxr-xr-x 1 rafaelalexandre rafaelalexandre  26K fev 21 19:24 test\n",
      "-rw-r--r-- 1 rafaelalexandre rafaelalexandre  655 fev 21 17:38 validação1.inp\n",
      "-rw-r--r-- 1 rafaelalexandre rafaelalexandre 5,8K fev 29 09:48 VALORES_DE_ENTRADA.f95\n",
      "-rw-r--r-- 1 rafaelalexandre rafaelalexandre 1,1K fev 21 19:24 valores_de_entrada.mod\n",
      "-rw-r--r-- 1 rafaelalexandre rafaelalexandre  15K fev 21 19:24 VALORES_DE_ENTRADA.o\n",
      "\n",
      "src/inputs:\n",
      "total 28K\n",
      "drwxr-xr-x 2 rafaelalexandre rafaelalexandre 4,0K fev 29 09:23 .\n",
      "drwxr-xr-x 5 rafaelalexandre rafaelalexandre 4,0K fev 21 19:27 ..\n",
      "-rw-r--r-- 1 rafaelalexandre rafaelalexandre  662 fev 21 19:45 teste1.inp\n",
      "-rw-r--r-- 1 rafaelalexandre rafaelalexandre  655 fev 29 09:22 validação1.inp\n",
      "-rw-r--r-- 1 rafaelalexandre rafaelalexandre  655 fev 29 09:22 validação2.inp\n",
      "-rw-r--r-- 1 rafaelalexandre rafaelalexandre  655 fev 29 09:23 validação3.inp\n",
      "-rw-r--r-- 1 rafaelalexandre rafaelalexandre  660 fev 29 09:23 validação4.inp\n",
      "\n",
      "src/outputs:\n",
      "total 72K\n",
      "drwxr-xr-x 2 rafaelalexandre rafaelalexandre 4,0K fev 21 19:25 .\n",
      "drwxr-xr-x 5 rafaelalexandre rafaelalexandre 4,0K fev 21 19:27 ..\n",
      "-rw-r--r-- 1 rafaelalexandre rafaelalexandre  13K fev 29 09:22 ni2_M4_Q1.dat\n",
      "-rw-r--r-- 1 rafaelalexandre rafaelalexandre  13K fev 29 09:23 ni2_M4_Q2.dat\n",
      "-rw-r--r-- 1 rafaelalexandre rafaelalexandre  13K fev 29 09:23 ni2_M4_Q3.dat\n",
      "-rw-r--r-- 1 rafaelalexandre rafaelalexandre  13K fev 29 09:25 ni3_M4_Q4.dat\n"
     ]
    }
   ],
   "source": [
    "# Agora vamos limpar \n",
    "! make clean -f src/codes/Makefile \n",
    "! ls -alh src/*"
   ]
  },
  {
   "cell_type": "code",
   "execution_count": 9,
   "metadata": {
    "ExecuteTime": {
     "end_time": "2020-02-29T12:48:06.308723Z",
     "start_time": "2020-02-29T12:48:06.192270Z"
    }
   },
   "outputs": [
    {
     "name": "stdout",
     "output_type": "stream",
     "text": [
      "make: *** No rule to make target 'CONSTANTES.f95', needed by 'CONSTANTES.o'.  Pare.\r\n"
     ]
    }
   ],
   "source": [
    "# Gerando o Makefile \n",
    "! make -f src/codes/Makefile"
   ]
  },
  {
   "cell_type": "code",
   "execution_count": 10,
   "metadata": {
    "ExecuteTime": {
     "end_time": "2020-02-29T12:48:06.869967Z",
     "start_time": "2020-02-29T12:48:06.311549Z"
    },
    "scrolled": true
   },
   "outputs": [],
   "source": [
    "# Compilando o código\n",
    "! f95 -Wall -Waliasing -pedantic -Wsurprising -Wunderflow -std=f2008 -frecursive -fcheck=all -o E src/codes/PRECISAO.f95 src/codes/CONSTANTES.f95 src/codes/VALORES_DE_ENTRADA.f95 src/codes/FUNÇÃO_COULOMB_NEWTON.f95 src/codes/EDOs.f95 src/codes/main.f95"
   ]
  },
  {
   "cell_type": "markdown",
   "metadata": {},
   "source": [
    "# Validando\n",
    "\n",
    "   A partir de resultados ja conhecidos , pretendo convencer o leitor que os resultados encontrados estão certos.\n",
    "   Para plotar os graficos no ambiente do jupyter , será usado o gnuplot.\n",
    "   \n",
    "   `OBSERVAÇÃO:` A priori queria que o executavel , pega-se o dados de entrada no inputs, mas tive dificuldades ao fazer isso . Então optei em deixar os arquivos na pasta dos programas e no final da execusão , os arquivos de entrada serão movidos para a pasta inputs "
   ]
  },
  {
   "cell_type": "markdown",
   "metadata": {},
   "source": [
    "#### Importando as biblioteca a serem usadas\n"
   ]
  },
  {
   "cell_type": "code",
   "execution_count": 11,
   "metadata": {
    "ExecuteTime": {
     "end_time": "2020-02-29T12:48:07.064303Z",
     "start_time": "2020-02-29T12:48:06.874215Z"
    }
   },
   "outputs": [],
   "source": [
    "# Carregando as magics para o gnuplot\n",
    "%load_ext gnuplot_kernel"
   ]
  },
  {
   "cell_type": "markdown",
   "metadata": {},
   "source": [
    "## Primeira Validação\n",
    " \n",
    "   Para o primeiro caso , vamos analisar uma particula acelerada (Q) que sofre uma força de duas particulas fixas de mesmas cargas (q1 e q2). As particulas q1 e q2 estao separadas no eixo y pela mesma distancia apartir do centro , mas tem a mesma componente em x e a particula incidente tem sua posiçao inicial na origem . logo espera-se que a força que a particula incidente sofre devido a q1 e q2 , de ser iguais , anulando-se as forças. A particula Q entao tem a trajetoria linear e não sofrera deflexao. "
   ]
  },
  {
   "cell_type": "code",
   "execution_count": 12,
   "metadata": {
    "ExecuteTime": {
     "end_time": "2020-02-29T12:48:07.081674Z",
     "start_time": "2020-02-29T12:48:07.070631Z"
    }
   },
   "outputs": [
    {
     "name": "stdout",
     "output_type": "stream",
     "text": [
      "Writing validação1.inp\n"
     ]
    }
   ],
   "source": [
    "%%writefile validação1.inp\n",
    "1           !Q , Carga da Partícula Incidente\n",
    "4           !M , Massa da Partícula Incidentes \n",
    "100         !n , Numero interações\n",
    "0.0         !XQ0, Posição inicial da Carga Q em \"x\"  \n",
    "0.0         !YQ0, Posição inicial da Carga Q em \"y\" \n",
    "100.0       !Vx0, Velocidade inicial da Carga Q em \"x\" \n",
    "0.0         !Vy0, Velocidade inicial da Carga Q em \"y\" \n",
    "0.0         !T0, Tempo inicial da Carga Q \n",
    "0.5         !Tf, Tempo final da Carga Q \n",
    "2           !ni, Numero de Centros Espalhadores\n",
    "10 10       !qi, Cargas dos Centros Espalhadores\n",
    "20.0 20.0   !cxi, Posição \"x_i\" dos Centros Espalhadores\n",
    "-1.0 1.0    !cyi, Posição \"y_i\" dos Centros Espalhadores\n"
   ]
  },
  {
   "cell_type": "code",
   "execution_count": 13,
   "metadata": {
    "ExecuteTime": {
     "end_time": "2020-02-29T12:48:07.418553Z",
     "start_time": "2020-02-29T12:48:07.087863Z"
    },
    "scrolled": false
   },
   "outputs": [
    {
     "name": "stdout",
     "output_type": "stream",
     "text": [
      " Entre com o nome do arquivo de entrada: \r\n",
      " a     =   139.11146501204817      constante de adimensionalização\r\n",
      " Q     =           1 Carga da Partícula Incidente(Coulomb)\r\n",
      " M     =           4 Massa da Partícula Incidentes(kilograma)\r\n",
      " n     =         100 Numero de Interações do Método\r\n",
      " XQ    =   0.0000000000000000      Posição inicial da Carga Q em \"x\"(Metro)\r\n",
      " YQ(:) =   0.0000000000000000      Posição inicial da Carga Q em \"Y\"(Metro)\r\n",
      " Vxi   =   100.00000000000000      Velocidade inicial da Carga Q em \"x\"(Metro por Segundo)\r\n",
      " Vyi   =   0.0000000000000000      Velocidade inicial da Carga Q em \"y\"(Metro por Segundo)\r\n",
      " T0    =   0.0000000000000000      Tempo inicial da Carga Q(Segundos)\r\n",
      " Tf    =  0.50000000000000000      Tempo final da Carga Q (Segundos)\r\n",
      " ni    =           2 Numero dos Centros Espalhadores\r\n",
      " qi(:) =          10          10 Cargas dos Centros Espalhadores(Coulomb)\r\n",
      " cxi(:)=   20.000000000000000        20.000000000000000      Posição \"x_i\" dos Centros Espalhadores(Metro)\r\n",
      " cyi(:)=  -1.0000000000000000        1.0000000000000000      Posição \"y_i\" dos Centros Espalhadores(Metro)\r\n",
      " O nome do arquivo de saída é:src/outputs/ni2_M4_Q1.dat                                                       \r\n"
     ]
    }
   ],
   "source": [
    "# Rodando o executável com o validação1\n",
    "! echo \"validação1\" | ./E -"
   ]
  },
  {
   "cell_type": "code",
   "execution_count": 14,
   "metadata": {
    "ExecuteTime": {
     "end_time": "2020-02-29T12:48:07.506791Z",
     "start_time": "2020-02-29T12:48:07.422157Z"
    }
   },
   "outputs": [],
   "source": [
    "%gnuplot inline pngcairo size 800,600 font \"\""
   ]
  },
  {
   "cell_type": "code",
   "execution_count": 15,
   "metadata": {
    "ExecuteTime": {
     "end_time": "2020-02-29T12:48:07.636084Z",
     "start_time": "2020-02-29T12:48:07.511374Z"
    }
   },
   "outputs": [
    {
     "data": {
      "image/png": "[encoded data removed]",
      "text/plain": [
       "<IPython.core.display.Image object>"
      ]
     },
     "metadata": {},
     "output_type": "display_data"
    },
    {
     "data": {
      "text/plain": [
       "set grid\n",
       "set xlabel \"Posicao em X\"\n",
       "set ylabel \"Posicao em Y\"\n",
       "set title \"Colisoes\"\n",
       "set yrange [-1.5:1.5]\n",
       "set xrange [:]\n",
       "set key top right\n",
       "set output '/tmp/gnuplot-inline-1582980487.5427728.374374310641.png'\n",
       "plot \"src/outputs/ni2_M4_Q1.dat\" using 2:4 title 'trajetoria' with p pt 6 lc 'blue', '<echo \"20.0 1\"' pt 7 lc 'red' title 'Centro Espalhador 1', '<echo \"20 -1\"' pt 7 lc 'red' title 'Centro Espalhador 2'\n",
       "\n",
       "\n",
       "unset output"
      ]
     },
     "metadata": {},
     "output_type": "display_data"
    }
   ],
   "source": [
    "%%gnuplot \n",
    "set grid\n",
    "set xlabel \"Posicao em X\"\n",
    "set ylabel \"Posicao em Y\"\n",
    "set title \"Colisoes\"\n",
    "set yrange [-1.5:1.5]\n",
    "set xrange [:]\n",
    "set key top right\n",
    "plot \"src/outputs/ni2_M4_Q1.dat\" using 2:4 title 'trajetoria' with p pt 6 lc 'blue', '<echo \"20.0 1\"' pt 7 lc 'red' title 'Centro Espalhador 1', '<echo \"20 -1\"' pt 7 lc 'red' title 'Centro Espalhador 2'"
   ]
  },
  {
   "cell_type": "code",
   "execution_count": 16,
   "metadata": {
    "ExecuteTime": {
     "end_time": "2020-02-29T12:48:07.784803Z",
     "start_time": "2020-02-29T12:48:07.640018Z"
    }
   },
   "outputs": [],
   "source": [
    "# movendo o arquivo para inputs\n",
    "! mv validação1.inp src/inputs/"
   ]
  },
  {
   "cell_type": "markdown",
   "metadata": {},
   "source": [
    "# Segunda Validação\n",
    "\n",
    "   A segunda validação será feita com os mesmos dados iniciais , mudando apenas a carga da segunda particula (q2) que esta no eixo positivo em y. Aumenta-se a carga em duas vezes e espera-se que a carga sofra um deflexao para baixo , pois, a segunda particula 'empura' a particula incidente ."
   ]
  },
  {
   "cell_type": "code",
   "execution_count": 17,
   "metadata": {
    "ExecuteTime": {
     "end_time": "2020-02-29T12:48:07.820687Z",
     "start_time": "2020-02-29T12:48:07.794459Z"
    }
   },
   "outputs": [
    {
     "name": "stdout",
     "output_type": "stream",
     "text": [
      "Writing validação2.inp\n"
     ]
    }
   ],
   "source": [
    "%%writefile validação2.inp\n",
    "2           !Q , Carga da Partícula Incidente\n",
    "4           !M , Massa da Partícula Incidentes \n",
    "100         !n , Numero interações\n",
    "0.0         !XQ0, Posição inicial da Carga Q em \"x\"  \n",
    "0.0         !YQ0, Posição inicial da Carga Q em \"y\" \n",
    "100.0       !Vx0, Velocidade inicial da Carga Q em \"x\" \n",
    "0.0         !Vy0, Velocidade inicial da Carga Q em \"y\" \n",
    "0.0         !T0, Tempo inicial da Carga Q \n",
    "0.5         !Tf, Tempo final da Carga Q \n",
    "2           !ni, Numero de Centros Espalhadores\n",
    "10 20       !qi, Cargas dos Centros Espalhadores\n",
    "20.0 20.0   !cxi, Posição \"x_i\" dos Centros Espalhadores\n",
    "-1.0 1.0    !cyi, Posição \"y_i\" dos Centros Espalhadores\n"
   ]
  },
  {
   "cell_type": "code",
   "execution_count": 18,
   "metadata": {
    "ExecuteTime": {
     "end_time": "2020-02-29T12:48:08.124276Z",
     "start_time": "2020-02-29T12:48:07.823060Z"
    }
   },
   "outputs": [
    {
     "name": "stdout",
     "output_type": "stream",
     "text": [
      " Entre com o nome do arquivo de entrada: \r\n",
      " a     =   139.11146501204817      constante de adimensionalização\r\n",
      " Q     =           2 Carga da Partícula Incidente(Coulomb)\r\n",
      " M     =           4 Massa da Partícula Incidentes(kilograma)\r\n",
      " n     =         100 Numero de Interações do Método\r\n",
      " XQ    =   0.0000000000000000      Posição inicial da Carga Q em \"x\"(Metro)\r\n",
      " YQ(:) =   0.0000000000000000      Posição inicial da Carga Q em \"Y\"(Metro)\r\n",
      " Vxi   =   100.00000000000000      Velocidade inicial da Carga Q em \"x\"(Metro por Segundo)\r\n",
      " Vyi   =   0.0000000000000000      Velocidade inicial da Carga Q em \"y\"(Metro por Segundo)\r\n",
      " T0    =   0.0000000000000000      Tempo inicial da Carga Q(Segundos)\r\n",
      " Tf    =  0.50000000000000000      Tempo final da Carga Q (Segundos)\r\n",
      " ni    =           2 Numero dos Centros Espalhadores\r\n",
      " qi(:) =          10          20 Cargas dos Centros Espalhadores(Coulomb)\r\n",
      " cxi(:)=   20.000000000000000        20.000000000000000      Posição \"x_i\" dos Centros Espalhadores(Metro)\r\n",
      " cyi(:)=  -1.0000000000000000        1.0000000000000000      Posição \"y_i\" dos Centros Espalhadores(Metro)\r\n",
      " O nome do arquivo de saída é:src/outputs/ni2_M4_Q2.dat                                                       \r\n"
     ]
    }
   ],
   "source": [
    "# Rodando o executável com o validação2\n",
    "! echo \"validação2\" | ./E -"
   ]
  },
  {
   "cell_type": "code",
   "execution_count": 19,
   "metadata": {
    "ExecuteTime": {
     "end_time": "2020-02-29T12:48:08.143211Z",
     "start_time": "2020-02-29T12:48:08.128581Z"
    }
   },
   "outputs": [],
   "source": [
    "%gnuplot inline pngcairo size 800,600 font \"\""
   ]
  },
  {
   "cell_type": "code",
   "execution_count": 20,
   "metadata": {
    "ExecuteTime": {
     "end_time": "2020-02-29T12:48:08.278020Z",
     "start_time": "2020-02-29T12:48:08.147291Z"
    }
   },
   "outputs": [
    {
     "data": {
      "image/png": "[encoded data removed]",
      "text/plain": [
       "<IPython.core.display.Image object>"
      ]
     },
     "metadata": {},
     "output_type": "display_data"
    },
    {
     "data": {
      "text/plain": [
       "set grid\n",
       "set xlabel \"Posicao em X\"\n",
       "set ylabel \"Posicao em Y\"\n",
       "set title \"Colisoes\"\n",
       "set yrange [-1.5:1.5]\n",
       "set xrange [:]\n",
       "set key top right\n",
       "set output '/tmp/gnuplot-inline-1582980488.2344234.695958492178.png'\n",
       "plot \"src/outputs/ni2_M4_Q2.dat\" using 2:4 title 'trajetoria' with p pt 6 lc 'blue', '<echo \"20.0 1\"' pt 7 lc 'red' title 'Centro Espalhador 2', '<echo \"20 -1\"' pt 7 lc 'yellow' title 'Centro Espalhador 1'\n",
       "unset output"
      ]
     },
     "metadata": {},
     "output_type": "display_data"
    }
   ],
   "source": [
    "%%gnuplot \n",
    "set grid\n",
    "set xlabel \"Posicao em X\"\n",
    "set ylabel \"Posicao em Y\"\n",
    "set title \"Colisoes\"\n",
    "set yrange [-1.5:1.5]\n",
    "set xrange [:]\n",
    "set key top right\n",
    "plot \"src/outputs/ni2_M4_Q2.dat\" using 2:4 title 'trajetoria' with p pt 6 lc 'blue', '<echo \"20.0 1\"' pt 7 lc 'red' title 'Centro Espalhador 2', '<echo \"20 -1\"' pt 7 lc 'yellow' title 'Centro Espalhador 1'"
   ]
  },
  {
   "cell_type": "code",
   "execution_count": 21,
   "metadata": {
    "ExecuteTime": {
     "end_time": "2020-02-29T12:48:08.452974Z",
     "start_time": "2020-02-29T12:48:08.285547Z"
    }
   },
   "outputs": [],
   "source": [
    "# movendo o arquivo para inputs\n",
    "! mv validação2.inp src/inputs/\n"
   ]
  },
  {
   "cell_type": "markdown",
   "metadata": {
    "ExecuteTime": {
     "end_time": "2020-02-21T21:02:52.987849Z",
     "start_time": "2020-02-21T21:02:52.859867Z"
    }
   },
   "source": [
    "# Terceira Validação\n",
    "\n",
    "   A terceira validação será feita com os mesmos dados iniciais , mudando apenas a carga da primeira particula (q1) que esta no eixo negativo em y. Aumenta-se a carga em duas vezes e espera-se que a carga sofra um deflexao para cima , pois, a primeira particula 'empura' a particula incidente ."
   ]
  },
  {
   "cell_type": "code",
   "execution_count": 22,
   "metadata": {
    "ExecuteTime": {
     "end_time": "2020-02-29T12:48:08.489311Z",
     "start_time": "2020-02-29T12:48:08.456360Z"
    }
   },
   "outputs": [
    {
     "name": "stdout",
     "output_type": "stream",
     "text": [
      "Writing validação3.inp\n"
     ]
    }
   ],
   "source": [
    "%%writefile validação3.inp\n",
    "3           !Q , Carga da Partícula Incidente\n",
    "4           !M , Massa da Partícula Incidentes \n",
    "100         !n , Numero interações\n",
    "0.0         !XQ0, Posição inicial da Carga Q em \"x\"  \n",
    "0.0         !YQ0, Posição inicial da Carga Q em \"y\" \n",
    "100.0       !Vx0, Velocidade inicial da Carga Q em \"x\" \n",
    "0.0         !Vy0, Velocidade inicial da Carga Q em \"y\" \n",
    "0.0         !T0, Tempo inicial da Carga Q \n",
    "0.5         !Tf, Tempo final da Carga Q \n",
    "2           !ni, Numero de Centros Espalhadores\n",
    "20 10       !qi, Cargas dos Centros Espalhadores\n",
    "20.0 20.0   !cxi, Posição \"x_i\" dos Centros Espalhadores\n",
    "-1.0 1.0    !cyi, Posição \"y_i\" dos Centros Espalhadores"
   ]
  },
  {
   "cell_type": "code",
   "execution_count": 23,
   "metadata": {
    "ExecuteTime": {
     "end_time": "2020-02-29T12:48:08.723950Z",
     "start_time": "2020-02-29T12:48:08.494929Z"
    }
   },
   "outputs": [
    {
     "name": "stdout",
     "output_type": "stream",
     "text": [
      " Entre com o nome do arquivo de entrada: \r\n",
      " a     =   139.11146501204817      constante de adimensionalização\r\n",
      " Q     =           3 Carga da Partícula Incidente(Coulomb)\r\n",
      " M     =           4 Massa da Partícula Incidentes(kilograma)\r\n",
      " n     =         100 Numero de Interações do Método\r\n",
      " XQ    =   0.0000000000000000      Posição inicial da Carga Q em \"x\"(Metro)\r\n",
      " YQ(:) =   0.0000000000000000      Posição inicial da Carga Q em \"Y\"(Metro)\r\n",
      " Vxi   =   100.00000000000000      Velocidade inicial da Carga Q em \"x\"(Metro por Segundo)\r\n",
      " Vyi   =   0.0000000000000000      Velocidade inicial da Carga Q em \"y\"(Metro por Segundo)\r\n",
      " T0    =   0.0000000000000000      Tempo inicial da Carga Q(Segundos)\r\n",
      " Tf    =  0.50000000000000000      Tempo final da Carga Q (Segundos)\r\n",
      " ni    =           2 Numero dos Centros Espalhadores\r\n",
      " qi(:) =          20          10 Cargas dos Centros Espalhadores(Coulomb)\r\n",
      " cxi(:)=   20.000000000000000        20.000000000000000      Posição \"x_i\" dos Centros Espalhadores(Metro)\r\n",
      " cyi(:)=  -1.0000000000000000        1.0000000000000000      Posição \"y_i\" dos Centros Espalhadores(Metro)\r\n",
      " O nome do arquivo de saída é:src/outputs/ni2_M4_Q3.dat                                                       \r\n"
     ]
    }
   ],
   "source": [
    "# Rodando o executável com o validação3\n",
    "! echo \"validação3\" | ./E -"
   ]
  },
  {
   "cell_type": "code",
   "execution_count": 24,
   "metadata": {
    "ExecuteTime": {
     "end_time": "2020-02-29T12:48:08.772933Z",
     "start_time": "2020-02-29T12:48:08.728847Z"
    }
   },
   "outputs": [],
   "source": [
    "%gnuplot inline pngcairo size 800,600 font \"\""
   ]
  },
  {
   "cell_type": "code",
   "execution_count": 25,
   "metadata": {
    "ExecuteTime": {
     "end_time": "2020-02-29T12:48:08.928899Z",
     "start_time": "2020-02-29T12:48:08.777595Z"
    }
   },
   "outputs": [
    {
     "data": {
      "image/png": "[encoded data removed]",
      "text/plain": [
       "<IPython.core.display.Image object>"
      ]
     },
     "metadata": {},
     "output_type": "display_data"
    },
    {
     "data": {
      "text/plain": [
       "set grid\n",
       "set xlabel \"Posicao em X\"\n",
       "set ylabel \"Posicao em Y\"\n",
       "set title \"Colisoes\"\n",
       "set yrange [-3:3]\n",
       "set xrange [:]\n",
       "set key top right\n",
       "set output '/tmp/gnuplot-inline-1582980488.867579.822361028635.png'\n",
       "plot \"src/outputs/ni2_M4_Q3.dat\" using 2:4 title 'trajetoria' with p pt 6 lc 'blue', '<echo \"20.0 1\"' pt 7 lc 'red' title 'Centro Espalhador 2', '<echo \"20 -1\"' pt 7 lc 'yellow' title 'Centro Espalhador 1'\n",
       " \n",
       "\n",
       "unset output"
      ]
     },
     "metadata": {},
     "output_type": "display_data"
    }
   ],
   "source": [
    "%%gnuplot \n",
    "set grid\n",
    "set xlabel \"Posicao em X\"\n",
    "set ylabel \"Posicao em Y\"\n",
    "set title \"Colisoes\"\n",
    "set yrange [-3:3]\n",
    "set xrange [:]\n",
    "set key top right\n",
    "plot \"src/outputs/ni2_M4_Q3.dat\" using 2:4 title 'trajetoria' with p pt 6 lc 'blue', '<echo \"20.0 1\"' pt 7 lc 'red' title 'Centro Espalhador 2', '<echo \"20 -1\"' pt 7 lc 'yellow' title 'Centro Espalhador 1'"
   ]
  },
  {
   "cell_type": "code",
   "execution_count": 26,
   "metadata": {
    "ExecuteTime": {
     "end_time": "2020-02-29T12:48:09.124995Z",
     "start_time": "2020-02-29T12:48:08.931547Z"
    }
   },
   "outputs": [],
   "source": [
    "# movendo o arquivo para inputs\n",
    "! mv validação3.inp src/inputs/\n"
   ]
  },
  {
   "cell_type": "markdown",
   "metadata": {},
   "source": [
    "# Quarta Validação\n",
    " \n",
    "   Agora coloca-se uma terceira particula positiva , no eixo  "
   ]
  },
  {
   "cell_type": "code",
   "execution_count": 27,
   "metadata": {
    "ExecuteTime": {
     "end_time": "2020-02-29T12:48:09.148903Z",
     "start_time": "2020-02-29T12:48:09.127616Z"
    }
   },
   "outputs": [
    {
     "name": "stdout",
     "output_type": "stream",
     "text": [
      "Writing validação4.inp\n"
     ]
    }
   ],
   "source": [
    "%%writefile validação4.inp\n",
    "4           !Q , Carga da Partícula Incidente\n",
    "4           !M , Massa da Partícula Incidentes \n",
    "100         !n , Numero interações\n",
    "0.0         !XQ0, Posição inicial da Carga Q em \"x\"  \n",
    "0.0         !YQ0, Posição inicial da Carga Q em \"y\" \n",
    "100.0       !Vx0, Velocidade inicial da Carga Q em \"x\" \n",
    "0.0         !Vy0, Velocidade inicial da Carga Q em \"y\" \n",
    "0.0         !T0, Tempo inicial da Carga Q \n",
    "0.5         !Tf, Tempo final da Carga Q \n",
    "3           !ni, Numero de Centros Espalhadores\n",
    "20 10 5    !qi, Cargas dos Centros Espalhadores\n",
    "20.0 20.0 30.0 !cxi, Posição \"x_i\" dos Centros Espalhadores\n",
    "-1.0 1.0 2.0   !cyi, Posição \"y_i\" dos Centros Espalhadores"
   ]
  },
  {
   "cell_type": "code",
   "execution_count": 28,
   "metadata": {
    "ExecuteTime": {
     "end_time": "2020-02-29T12:48:09.416561Z",
     "start_time": "2020-02-29T12:48:09.151563Z"
    }
   },
   "outputs": [
    {
     "name": "stdout",
     "output_type": "stream",
     "text": [
      " Entre com o nome do arquivo de entrada: \r\n",
      " a     =   139.11146501204817      constante de adimensionalização\r\n",
      " Q     =           4 Carga da Partícula Incidente(Coulomb)\r\n",
      " M     =           4 Massa da Partícula Incidentes(kilograma)\r\n",
      " n     =         100 Numero de Interações do Método\r\n",
      " XQ    =   0.0000000000000000      Posição inicial da Carga Q em \"x\"(Metro)\r\n",
      " YQ(:) =   0.0000000000000000      Posição inicial da Carga Q em \"Y\"(Metro)\r\n",
      " Vxi   =   100.00000000000000      Velocidade inicial da Carga Q em \"x\"(Metro por Segundo)\r\n",
      " Vyi   =   0.0000000000000000      Velocidade inicial da Carga Q em \"y\"(Metro por Segundo)\r\n",
      " T0    =   0.0000000000000000      Tempo inicial da Carga Q(Segundos)\r\n",
      " Tf    =  0.50000000000000000      Tempo final da Carga Q (Segundos)\r\n",
      " ni    =           3 Numero dos Centros Espalhadores\r\n",
      " qi(:) =          20          10           5 Cargas dos Centros Espalhadores(Coulomb)\r\n",
      " cxi(:)=   20.000000000000000        20.000000000000000        30.000000000000000      Posição \"x_i\" dos Centros Espalhadores(Metro)\r\n",
      " cyi(:)=  -1.0000000000000000        1.0000000000000000        2.0000000000000000      Posição \"y_i\" dos Centros Espalhadores(Metro)\r\n",
      " O nome do arquivo de saída é:src/outputs/ni3_M4_Q4.dat                                                       \r\n"
     ]
    }
   ],
   "source": [
    "# Rodando o executável com o validação3\n",
    "! echo \"validação4\" | ./E -"
   ]
  },
  {
   "cell_type": "code",
   "execution_count": 29,
   "metadata": {
    "ExecuteTime": {
     "end_time": "2020-02-29T12:48:09.458337Z",
     "start_time": "2020-02-29T12:48:09.422925Z"
    }
   },
   "outputs": [],
   "source": [
    "%gnuplot inline pngcairo size 800,600 font \"\""
   ]
  },
  {
   "cell_type": "code",
   "execution_count": 30,
   "metadata": {
    "ExecuteTime": {
     "end_time": "2020-02-29T12:48:09.594188Z",
     "start_time": "2020-02-29T12:48:09.460605Z"
    }
   },
   "outputs": [
    {
     "data": {
      "image/png": "[encoded data removed]",
      "text/plain": [
       "<IPython.core.display.Image object>"
      ]
     },
     "metadata": {},
     "output_type": "display_data"
    },
    {
     "data": {
      "text/plain": [
       "set grid\n",
       "set xlabel \"Posicao em X\"\n",
       "set ylabel \"Posicao em Y\"\n",
       "set title \"Colisoes\"\n",
       "set yrange [-3:3]\n",
       "set xrange [:]\n",
       "set key top right\n",
       "set output '/tmp/gnuplot-inline-1582980489.5457313.615480522692.png'\n",
       "plot \"src/outputs/ni3_M4_Q4.dat\" using 2:4 title 'trajetoria' with p pt 6 lc 'blue', '<echo \"20.0 1\"' pt 7 lc 'red' title 'Centro Espalhador 2', '<echo \"20 -1\"' pt 7 lc 'yellow' title 'Centro Espalhador 1', '<echo \"30 2\"' pt 7 lc 'purple' title 'Centro Espalhador 1'\n",
       "unset output"
      ]
     },
     "metadata": {},
     "output_type": "display_data"
    }
   ],
   "source": [
    "%%gnuplot \n",
    "set grid\n",
    "set xlabel \"Posicao em X\"\n",
    "set ylabel \"Posicao em Y\"\n",
    "set title \"Colisoes\"\n",
    "set yrange [-3:3]\n",
    "set xrange [:]\n",
    "set key top right\n",
    "plot \"src/outputs/ni3_M4_Q4.dat\" using 2:4 title 'trajetoria' with p pt 6 lc 'blue', '<echo \"20.0 1\"' pt 7 lc 'red' title 'Centro Espalhador 2', '<echo \"20 -1\"' pt 7 lc 'yellow' title 'Centro Espalhador 1', '<echo \"30 2\"' pt 7 lc 'purple' title 'Centro Espalhador 1'"
   ]
  },
  {
   "cell_type": "code",
   "execution_count": 31,
   "metadata": {
    "ExecuteTime": {
     "end_time": "2020-02-29T12:48:09.804964Z",
     "start_time": "2020-02-29T12:48:09.596607Z"
    }
   },
   "outputs": [],
   "source": [
    "# movendo o arquivo para inputs\n",
    "! mv validação4.inp src/inputs/"
   ]
  },
  {
   "cell_type": "markdown",
   "metadata": {},
   "source": [
    "# Quinta Validação\n",
    " \n",
    " A fim de avaliar se a atração das particulas , coloquei a ultima carga atraindo a particula incidente que foi desviada anteriormente .\n"
   ]
  },
  {
   "cell_type": "code",
   "execution_count": 32,
   "metadata": {
    "ExecuteTime": {
     "end_time": "2020-02-29T12:48:09.868729Z",
     "start_time": "2020-02-29T12:48:09.809193Z"
    }
   },
   "outputs": [
    {
     "name": "stdout",
     "output_type": "stream",
     "text": [
      "Overwriting teste1.inp\n"
     ]
    }
   ],
   "source": [
    "%%writefile teste1.inp\n",
    "4           !Q , Carga da Partícula Incidente\n",
    "4           !M , Massa da Partícula Incidentes \n",
    "100         !n , Numero interações\n",
    "0.0         !XQ0, Posição inicial da Carga Q em \"x\"  \n",
    "0.0         !YQ0, Posição inicial da Carga Q em \"y\" \n",
    "100.0       !Vx0, Velocidade inicial da Carga Q em \"x\" \n",
    "0.0         !Vy0, Velocidade inicial da Carga Q em \"y\" \n",
    "0.0         !T0, Tempo inicial da Carga Q \n",
    "0.5         !Tf, Tempo final da Carga Q \n",
    "3           !ni, Numero de Centros Espalhadores\n",
    "20 10 -5       !qi, Cargas dos Centros Espalhadores\n",
    "20.0 20.0 30.0 !cxi, Posição \"x_i\" dos Centros Espalhadores\n",
    "-1.0 1.0 2.0   !cyi, Posição \"y_i\" dos Centros Espalhadores"
   ]
  },
  {
   "cell_type": "code",
   "execution_count": 33,
   "metadata": {
    "ExecuteTime": {
     "end_time": "2020-02-29T12:48:10.148142Z",
     "start_time": "2020-02-29T12:48:09.870779Z"
    }
   },
   "outputs": [
    {
     "name": "stdout",
     "output_type": "stream",
     "text": [
      " Entre com o nome do arquivo de entrada: \r\n",
      " a     =   139.11146501204817      constante de adimensionalização\r\n",
      " Q     =           4 Carga da Partícula Incidente(Coulomb)\r\n",
      " M     =           4 Massa da Partícula Incidentes(kilograma)\r\n",
      " n     =         100 Numero de Interações do Método\r\n",
      " XQ    =   0.0000000000000000      Posição inicial da Carga Q em \"x\"(Metro)\r\n",
      " YQ(:) =   0.0000000000000000      Posição inicial da Carga Q em \"Y\"(Metro)\r\n",
      " Vxi   =   100.00000000000000      Velocidade inicial da Carga Q em \"x\"(Metro por Segundo)\r\n",
      " Vyi   =   0.0000000000000000      Velocidade inicial da Carga Q em \"y\"(Metro por Segundo)\r\n",
      " T0    =   0.0000000000000000      Tempo inicial da Carga Q(Segundos)\r\n",
      " Tf    =  0.50000000000000000      Tempo final da Carga Q (Segundos)\r\n",
      " ni    =           3 Numero dos Centros Espalhadores\r\n",
      " qi(:) =          20          10          -5 Cargas dos Centros Espalhadores(Coulomb)\r\n",
      " cxi(:)=   20.000000000000000        20.000000000000000        30.000000000000000      Posição \"x_i\" dos Centros Espalhadores(Metro)\r\n",
      " cyi(:)=  -1.0000000000000000        1.0000000000000000        2.0000000000000000      Posição \"y_i\" dos Centros Espalhadores(Metro)\r\n",
      " O nome do arquivo de saída é:src/outputs/ni3_M4_Q4.dat                                                       \r\n"
     ]
    }
   ],
   "source": [
    "# Rodando o executável com o validação3\n",
    "! echo \"teste1\" | ./E -"
   ]
  },
  {
   "cell_type": "code",
   "execution_count": 34,
   "metadata": {
    "ExecuteTime": {
     "end_time": "2020-02-29T12:48:10.163796Z",
     "start_time": "2020-02-29T12:48:10.151321Z"
    }
   },
   "outputs": [],
   "source": [
    "%gnuplot inline pngcairo size 800,600 font \"\""
   ]
  },
  {
   "cell_type": "code",
   "execution_count": 35,
   "metadata": {
    "ExecuteTime": {
     "end_time": "2020-02-29T12:48:10.333188Z",
     "start_time": "2020-02-29T12:48:10.166683Z"
    }
   },
   "outputs": [
    {
     "data": {
      "image/png": "[encoded data removed]",
      "text/plain": [
       "<IPython.core.display.Image object>"
      ]
     },
     "metadata": {},
     "output_type": "display_data"
    },
    {
     "data": {
      "text/plain": [
       "set grid\n",
       "set xlabel \"Posicao em X\"\n",
       "set ylabel \"Posicao em Y\"\n",
       "set title \"Colisoes\"\n",
       "set yrange [-3:3]\n",
       "set xrange [:]\n",
       "set key top right\n",
       "set output '/tmp/gnuplot-inline-1582980490.254403.877161299553.png'\n",
       "plot \"src/outputs/ni3_M4_Q4.dat\" using 2:4 title 'trajetoria' with p pt 6 lc 'blue', '<echo \"20.0 1\"' pt 7 lc 'red' title 'Centro Espalhador 2', '<echo \"20 -1\"' pt 7 lc 'yellow' title 'Centro Espalhador 1', '<echo \"30 2\"' pt 7 lc 'purple' title 'Centro Espalhador 1'\n",
       "\n",
       "\n",
       "unset output"
      ]
     },
     "metadata": {},
     "output_type": "display_data"
    }
   ],
   "source": [
    "%%gnuplot \n",
    "set grid\n",
    "set xlabel \"Posicao em X\"\n",
    "set ylabel \"Posicao em Y\"\n",
    "set title \"Colisoes\"\n",
    "set yrange [-3:3]\n",
    "set xrange [:]\n",
    "set key top right\n",
    "plot \"src/outputs/ni3_M4_Q4.dat\" using 2:4 title 'trajetoria' with p pt 6 lc 'blue', '<echo \"20.0 1\"' pt 7 lc 'red' title 'Centro Espalhador 2', '<echo \"20 -1\"' pt 7 lc 'yellow' title 'Centro Espalhador 1', '<echo \"30 2\"' pt 7 lc 'purple' title 'Centro Espalhador 1'"
   ]
  },
  {
   "cell_type": "markdown",
   "metadata": {},
   "source": [
    "# Referencias \n",
    "\n",
    "1.[PODGORSAK, E. B. Radiation Physics for Medical Physicists, Editora Springer]\n",
    "\n",
    "2.[REITZ, J. R.; MILFORD, F. J.; CHRISTY, R. W. Fundamentos da Teoria Eletromagnética. Rio de Janeiro:Campus]\n",
    "\n",
    "3.[NUSSENZVEIG, H. M. Curso de Física Básica: Mecânica, v. 1. São Paulo: Ed. Edgard Blücher Ltda.]\n",
    "\n",
    "4.[R.P. Feynman, R.B. Leighton, M. Sands, Lições de física de Feynman ]"
   ]
  },
  {
   "cell_type": "code",
   "execution_count": null,
   "metadata": {},
   "outputs": [],
   "source": []
  },
  {
   "cell_type": "code",
   "execution_count": null,
   "metadata": {},
   "outputs": [],
   "source": []
  },
  {
   "cell_type": "code",
   "execution_count": null,
   "metadata": {},
   "outputs": [],
   "source": []
  }
 ],
 "metadata": {
  "kernelspec": {
   "display_name": "Python 3",
   "language": "python",
   "name": "python3"
  },
  "language_info": {
   "codemirror_mode": {
    "name": "ipython",
    "version": 3
   },
   "file_extension": ".py",
   "mimetype": "text/x-python",
   "name": "python",
   "nbconvert_exporter": "python",
   "pygments_lexer": "ipython3",
   "version": "3.8.5"
  },
  "latex_envs": {
   "LaTeX_envs_menu_present": true,
   "autoclose": false,
   "autocomplete": true,
   "bibliofile": "biblio.bib",
   "cite_by": "apalike",
   "current_citInitial": 1,
   "eqLabelWithNumbers": true,
   "eqNumInitial": 1,
   "hotkeys": {
    "equation": "Ctrl-E",
    "itemize": "Ctrl-I"
   },
   "labels_anchors": false,
   "latex_user_defs": false,
   "report_style_numbering": false,
   "user_envs_cfg": false
  },
  "nbTranslate": {
   "displayLangs": [
    "pt",
    "en"
   ],
   "hotkey": "alt-t",
   "langInMainMenu": true,
   "sourceLang": "en",
   "targetLang": "pt",
   "useGoogleTranslate": true
  },
  "toc": {
   "base_numbering": 1,
   "nav_menu": {},
   "number_sections": true,
   "sideBar": true,
   "skip_h1_title": false,
   "title_cell": "Table of Contents",
   "title_sidebar": "Contents",
   "toc_cell": false,
   "toc_position": {},
   "toc_section_display": true,
   "toc_window_display": false
  },
  "widgets": {
   "application/vnd.jupyter.widget-state+json": {
    "state": {},
    "version_major": 2,
    "version_minor": 0
   }
  }
 },
 "nbformat": 4,
 "nbformat_minor": 4
}
